{
 "cells": [
  {
   "cell_type": "markdown",
   "id": "4b7b7c23-22ac-45a2-8d1d-ac2792c2dd4e",
   "metadata": {},
   "source": [
    "# Data Science Tools and Ecosystem #"
   ]
  },
  {
   "cell_type": "markdown",
   "id": "696367fe-4e4e-4a5d-9ed9-4b8ac58c636b",
   "metadata": {},
   "source": [
    "In this notebook, Data Science Tools and Ecosystem are summarized."
   ]
  },
  {
   "cell_type": "markdown",
   "id": "9963306e-7560-4e99-8e43-25aa9f49545c",
   "metadata": {},
   "source": [
    "__Objectives:__\n",
    "- Python\n",
    "- R\n",
    "- SQL\n",
    "- Git"
   ]
  },
  {
   "cell_type": "markdown",
   "id": "32b683c5-464e-4c7d-b771-4a6a4f1ef266",
   "metadata": {},
   "source": [
    "Some of the popular languages that Data Scientists use are:\n",
    "1. Python\n",
    "2. R\n",
    "3. SQL"
   ]
  },
  {
   "cell_type": "markdown",
   "id": "2f09daca-8b86-41f2-9d40-9103862912db",
   "metadata": {},
   "source": [
    "Some of the commonly used libraries used by Data Scientists include:\n",
    "1. Scikit-learn\n",
    "2. matplotlib\n",
    "3. Plotly"
   ]
  },
  {
   "cell_type": "markdown",
   "id": "fbe283c7-84b1-4f66-a26f-7c11812ce029",
   "metadata": {},
   "source": [
    "| Data Science Tools |\n",
    "| ------------------ |\n",
    "| Visual Studio Code |\n",
    "| Jupyter            |\n",
    "| RStudio            |"
   ]
  },
  {
   "cell_type": "markdown",
   "id": "406f1a11-bb66-4ec3-a5fb-c731bce96652",
   "metadata": {},
   "source": [
    "### Below are a few examples of evaluating arithmetic expressions in Python"
   ]
  },
  {
   "cell_type": "code",
   "execution_count": 1,
   "id": "89b9b580-cb3d-47f6-80da-5eeda2ae0005",
   "metadata": {},
   "outputs": [
    {
     "data": {
      "text/plain": [
       "17"
      ]
     },
     "execution_count": 1,
     "metadata": {},
     "output_type": "execute_result"
    }
   ],
   "source": [
    "#This a simple arithmetic expression to mutiply then add integers\n",
    "(3*4)+5"
   ]
  },
  {
   "cell_type": "code",
   "execution_count": 4,
   "id": "57a7d348-913f-47c5-b572-4e8dc8cbb539",
   "metadata": {},
   "outputs": [
    {
     "data": {
      "text/plain": [
       "3.3333333333333335"
      ]
     },
     "execution_count": 4,
     "metadata": {},
     "output_type": "execute_result"
    }
   ],
   "source": [
    "#This will convert 200 minutes to hours by diving by 60\n",
    "200/60"
   ]
  },
  {
   "cell_type": "markdown",
   "id": "4f11dcaa-cb00-4d19-b29f-722e1ebcc946",
   "metadata": {},
   "source": [
    "## Author ##\n",
    "Olushile Akintade"
   ]
  },
  {
   "cell_type": "code",
   "execution_count": null,
   "id": "0c73b8bd-c0c0-48b6-b4c3-1dd0c467c57e",
   "metadata": {},
   "outputs": [],
   "source": []
  }
 ],
 "metadata": {
  "kernelspec": {
   "display_name": "Python 3 (ipykernel)",
   "language": "python",
   "name": "python3"
  },
  "language_info": {
   "codemirror_mode": {
    "name": "ipython",
    "version": 3
   },
   "file_extension": ".py",
   "mimetype": "text/x-python",
   "name": "python",
   "nbconvert_exporter": "python",
   "pygments_lexer": "ipython3",
   "version": "3.8.8"
  }
 },
 "nbformat": 4,
 "nbformat_minor": 5
}
